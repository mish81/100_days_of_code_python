{
 "cells": [
  {
   "cell_type": "markdown",
   "metadata": {},
   "source": [
    "# Exercise_05 - Password Generator"
   ]
  },
  {
   "cell_type": "markdown",
   "metadata": {},
   "source": [
    "The program will ask:\n",
    "\n",
    "How many letters would you like in your password?\n",
    "\n",
    "How many symbols would you like?\n",
    "\n",
    "How many numbers would you like?\n",
    "\n",
    "The objective is to take the inputs from the user to these questions and then generate a random password. Use your knowledge about Python lists and loops to complete the challenge.\n",
    "\n",
    "Easy Version (Step 1) : Generate the password in sequence. If the user wants\n",
    "\n",
    "4 letters\n",
    "2 symbols and\n",
    "3 numbers\n",
    "then the password might look like this:\n",
    "\n",
    "fgdx$*924\n",
    "\n",
    "You can see that all the letters are together. All the symbols are together and all the numbers follow each other as well. Try to solve this problem first.\n",
    "\n",
    "Hard Version (Step 2) : When you've completed the easy version, you're ready to tackle the hard version. In the advanced version of this project the final password does not follow a pattern. So the example above might look like this:\n",
    "\n",
    "x$d24g*f9\n",
    "\n",
    "And every time you generate a password, the positions of the symbols, numbers, and letters are different."
   ]
  },
  {
   "cell_type": "code",
   "execution_count": 1,
   "metadata": {},
   "outputs": [],
   "source": [
    "#Password Generator Project\n",
    "import random\n",
    "letters = ['a', 'b', 'c', 'd', 'e', 'f', 'g', 'h', 'i', 'j', 'k', 'l', 'm', 'n', 'o', 'p', 'q', 'r', 's', 't', 'u', 'v', 'w', 'x', 'y', 'z', 'A', 'B', 'C', 'D', 'E', 'F', 'G', 'H', 'I', 'J', 'K', 'L', 'M', 'N', 'O', 'P', 'Q', 'R', 'S', 'T', 'U', 'V', 'W', 'X', 'Y', 'Z']\n",
    "numbers = ['0', '1', '2', '3', '4', '5', '6', '7', '8', '9']\n",
    "symbols = ['!', '#', '$', '%', '&', '(', ')', '*', '+']"
   ]
  },
  {
   "cell_type": "code",
   "execution_count": 4,
   "metadata": {},
   "outputs": [
    {
     "name": "stdout",
     "output_type": "stream",
     "text": [
      "Welcome to the PyPassword Generator!\n",
      "Your randomly generated password is : cSOpZ+*67063\n"
     ]
    }
   ],
   "source": [
    "#Eazy Level - Order not randomised:\n",
    "#e.g. 4 letter, 2 symbol, 2 number = JduE&!91\n",
    "\n",
    "print(\"Welcome to the PyPassword Generator!\")\n",
    "nr_letters= int(input(\"How many letters would you like in your password?\\n\")) \n",
    "nr_symbols = int(input(f\"How many symbols would you like?\\n\"))\n",
    "nr_numbers = int(input(f\"How many numbers would you like?\\n\"))\n",
    "\n",
    "password = ''\n",
    "for i in range(1,(nr_letters + nr_symbols + nr_numbers) + 1):\n",
    "    if i <= nr_letters:\n",
    "        password += letters[random.randint(0,len(letters)-1)]\n",
    "    elif i <= (nr_letters + nr_symbols):\n",
    "        password += symbols[random.randint(0,len(symbols)-1)]\n",
    "    else:\n",
    "        password += numbers[random.randint(0,len(numbers)-1)]\n",
    "\n",
    "print(f\"Your randomly generated password is : {password}\")"
   ]
  },
  {
   "cell_type": "code",
   "execution_count": 15,
   "metadata": {},
   "outputs": [
    {
     "name": "stdout",
     "output_type": "stream",
     "text": [
      "['c', 'S', 'O', 'p', 'Z', '+', '*', '6', '7', '0', '6', '3']\n",
      "None\n"
     ]
    },
    {
     "data": {
      "text/plain": [
       "'6S6*Oc30p7Z+'"
      ]
     },
     "execution_count": 15,
     "metadata": {},
     "output_type": "execute_result"
    }
   ],
   "source": [
    "alphabets = list(map(lambda letter: letter, password))\n",
    "\n",
    "random.shuffle(alphabets)\n",
    "\n"
   ]
  },
  {
   "cell_type": "code",
   "execution_count": 17,
   "metadata": {},
   "outputs": [
    {
     "name": "stdout",
     "output_type": "stream",
     "text": [
      "Welcome to the PyPassword Generator!\n",
      "Your randomly generated password is : (3j1Kd\n"
     ]
    }
   ],
   "source": [
    "#Hard Level - Order of characters randomised:\n",
    "#e.g. 4 letter, 2 symbol, 2 number = g^2jk8&P\n",
    "\n",
    "print(\"Welcome to the PyPassword Generator!\")\n",
    "nr_letters= int(input(\"How many letters would you like in your password?\\n\")) \n",
    "nr_symbols = int(input(f\"How many symbols would you like?\\n\"))\n",
    "nr_numbers = int(input(f\"How many numbers would you like?\\n\"))\n",
    "\n",
    "password = []\n",
    "for i in range(1,(nr_letters + nr_symbols + nr_numbers) + 1):\n",
    "    if i <= nr_letters:\n",
    "        password.append(random.choice(letters))\n",
    "    elif i <= (nr_letters + nr_symbols):\n",
    "        password.append(random.choice(symbols))\n",
    "    else:\n",
    "        password.append(random.choice(numbers))\n",
    "\n",
    "random.shuffle(password)\n",
    "\n",
    "password = ''.join(password)\n",
    "\n",
    "print(f\"Your randomly generated password is : {password}\")"
   ]
  }
 ],
 "metadata": {
  "kernelspec": {
   "display_name": "Python 3",
   "language": "python",
   "name": "python3"
  },
  "language_info": {
   "codemirror_mode": {
    "name": "ipython",
    "version": 3
   },
   "file_extension": ".py",
   "mimetype": "text/x-python",
   "name": "python",
   "nbconvert_exporter": "python",
   "pygments_lexer": "ipython3",
   "version": "3.12.2"
  }
 },
 "nbformat": 4,
 "nbformat_minor": 2
}
