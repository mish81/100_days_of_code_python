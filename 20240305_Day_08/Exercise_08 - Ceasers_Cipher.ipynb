{
 "cells": [
  {
   "cell_type": "markdown",
   "metadata": {},
   "source": [
    "# Ceaser's Cipher"
   ]
  },
  {
   "cell_type": "code",
   "execution_count": 22,
   "metadata": {},
   "outputs": [],
   "source": [
    "eng = ['a','b','c','d','e','f','g','h','i','j','k','l','m','n','o','p','q','r','s','t','u','v','w','x','y','z','a','b','c','d','e','f','g','h','i','j','k','l','m','n','o','p','q','r','s','t','u','v','w','x','y','z']"
   ]
  },
  {
   "cell_type": "code",
   "execution_count": 28,
   "metadata": {},
   "outputs": [],
   "source": [
    "def ceasers_cipher(direction = direction, word = word, shift = shift):\n",
    "\n",
    "    new_word = ''\n",
    "\n",
    "    for w in word:\n",
    "        if w in (\" \",\".\",\"!\",\"?\"):\n",
    "            new_word += w\n",
    "        else:\n",
    "            i = eng.index(w)\n",
    "            if direction == \"E\":\n",
    "                new_word += eng[i+shift]\n",
    "            elif direction == \"D\":\n",
    "                new_word += eng[i-shift]\n",
    "            else:\n",
    "                print(\"Wrong Input. Please try again.\")\n",
    "    \n",
    "    print(f\"The encoded message is: {new_word}\")"
   ]
  },
  {
   "cell_type": "code",
   "execution_count": 30,
   "metadata": {},
   "outputs": [
    {
     "name": "stdout",
     "output_type": "stream",
     "text": [
      "The Ded message is: the city is going down.\n"
     ]
    }
   ],
   "source": [
    "direction = input(\"Type E if you want to encrypt a message and D if you want to decrypt a message :\")\n",
    "word = input(\"Enter the message you want to encrypt/decrypt :\").lower()\n",
    "shift = int(input(\"Type the Shift key:\"))\n",
    "ceasers_cipher(direction, word, shift)"
   ]
  },
  {
   "cell_type": "code",
   "execution_count": null,
   "metadata": {},
   "outputs": [],
   "source": []
  }
 ],
 "metadata": {
  "kernelspec": {
   "display_name": "Python 3",
   "language": "python",
   "name": "python3"
  },
  "language_info": {
   "codemirror_mode": {
    "name": "ipython",
    "version": 3
   },
   "file_extension": ".py",
   "mimetype": "text/x-python",
   "name": "python",
   "nbconvert_exporter": "python",
   "pygments_lexer": "ipython3",
   "version": "3.12.2"
  }
 },
 "nbformat": 4,
 "nbformat_minor": 2
}
