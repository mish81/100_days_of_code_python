{
 "cells": [
  {
   "cell_type": "markdown",
   "metadata": {},
   "source": [
    "# Rock Paper Scissors"
   ]
  },
  {
   "cell_type": "markdown",
   "metadata": {},
   "source": [
    "Build a rock paper scissors game.\n",
    "\n",
    "Start by asking the user to input 0 for Rock, 1 for Paper or 2 for Scissors.\n",
    "\n",
    "Rules for Rock Paper Scissors : https://wrpsa.com/"
   ]
  },
  {
   "cell_type": "code",
   "execution_count": 1,
   "metadata": {},
   "outputs": [],
   "source": [
    "import random"
   ]
  },
  {
   "cell_type": "code",
   "execution_count": 2,
   "metadata": {},
   "outputs": [],
   "source": [
    "rock = '''\n",
    "    _______\n",
    "---'   ____)\n",
    "      (_____)\n",
    "      (_____)\n",
    "      (____)\n",
    "---.__(___)\n",
    "'''\n",
    "\n",
    "paper = '''\n",
    "    _______\n",
    "---'   ____)____\n",
    "          ______)\n",
    "          _______)\n",
    "         _______)\n",
    "---.__________)\n",
    "'''\n",
    "\n",
    "scissors = '''\n",
    "    _______\n",
    "---'   ____)____\n",
    "          ______)\n",
    "       __________)\n",
    "      (____)\n",
    "---.__(___)\n",
    "'''"
   ]
  },
  {
   "cell_type": "code",
   "execution_count": 3,
   "metadata": {},
   "outputs": [
    {
     "name": "stdout",
     "output_type": "stream",
     "text": [
      "Welcome to the wonderful game of Rock, Paper and Scissors!\n",
      "\n",
      "You've chosen : 1\n",
      "\n",
      "    _______\n",
      "---'   ____)____\n",
      "          ______)\n",
      "          _______)\n",
      "         _______)\n",
      "---.__________)\n",
      "\n",
      "Computer chose : \n",
      "    _______\n",
      "---'   ____)____\n",
      "          ______)\n",
      "          _______)\n",
      "         _______)\n",
      "---.__________)\n",
      "\n",
      "Its a Draw!!!!\n"
     ]
    }
   ],
   "source": [
    "all_inputs = [rock, paper, scissors]\n",
    "comp = random.randint(0,2)\n",
    "\n",
    "print(\"Welcome to the wonderful game of Rock, Paper and Scissors!\")\n",
    "\n",
    "user = int(input(\"What would you like to choose? (Type 0 for rock, 1 for paper and 2 for scissors:)\"))\n",
    "\n",
    "if user >= 3 or user<0:\n",
    "    print(\"Wrong input. You lose.\")\n",
    "else:\n",
    "    print(f\"\\nYou've chosen : {user}\\n{all_inputs[user]}\")\n",
    "    print(f\"Computer chose : {all_inputs[comp]}\")\n",
    "    if user == comp:\n",
    "        print(\"Its a Draw!!!!\")\n",
    "    elif (user == 0 and comp == 2) or (user == 2 and comp == 1) or (user == 1 and comp == 0):\n",
    "        print(\"Congratulations! You win.\")\n",
    "    else:\n",
    "        print(\"Oops! You Lose.\")"
   ]
  },
  {
   "cell_type": "code",
   "execution_count": null,
   "metadata": {},
   "outputs": [],
   "source": []
  }
 ],
 "metadata": {
  "kernelspec": {
   "display_name": "Python 3",
   "language": "python",
   "name": "python3"
  },
  "language_info": {
   "codemirror_mode": {
    "name": "ipython",
    "version": 3
   },
   "file_extension": ".py",
   "mimetype": "text/x-python",
   "name": "python",
   "nbconvert_exporter": "python",
   "pygments_lexer": "ipython3",
   "version": "3.12.2"
  }
 },
 "nbformat": 4,
 "nbformat_minor": 2
}
