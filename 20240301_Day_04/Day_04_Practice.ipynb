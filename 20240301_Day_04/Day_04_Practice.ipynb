{
 "cells": [
  {
   "cell_type": "markdown",
   "metadata": {},
   "source": [
    "# 1. Coin toss emulator to generate Heads or Tails using randint function()"
   ]
  },
  {
   "cell_type": "code",
   "execution_count": 1,
   "metadata": {},
   "outputs": [
    {
     "name": "stdout",
     "output_type": "stream",
     "text": [
      "Tails\n"
     ]
    }
   ],
   "source": [
    "import random\n",
    "\n",
    "if random.randint(0,1) == 0:\n",
    "  print(\"Tails\")\n",
    "else:\n",
    "  print(\"Heads\")"
   ]
  },
  {
   "cell_type": "markdown",
   "metadata": {},
   "source": [
    "# 2. Banker Roulette"
   ]
  },
  {
   "cell_type": "markdown",
   "metadata": {},
   "source": [
    "You are going to write a program that will select a random name from a list of names. The person selected will have to pay for everybody's food bill. Important: You are not allowed to use the choice() function.\n",
    "\n",
    "Line 1 splits the string names_string into individual names and puts them inside a List called names. For this to work, you must enter all the names as names followed by comma then space. e.g. name, name, name.\n",
    "\n",
    "NOTE: Don't worry about getting hold of the input(), we've done the work behind the scenes to import everything.\n",
    "\n",
    "HINT: Assume that names looks like this: input: x, y, z, names = [\"x\", \"y\", \"z\"]\n",
    "\n",
    "Example Input\n",
    "Angela, Ben, Jenny, Michael, Chloe\n",
    "Note: notice that there is a space between the comma and the next name.\n",
    "\n",
    "Example Output\n",
    "Michael is going to buy the meal today!"
   ]
  },
  {
   "cell_type": "code",
   "execution_count": 3,
   "metadata": {},
   "outputs": [
    {
     "name": "stdout",
     "output_type": "stream",
     "text": [
      "Chloe is going to buy the meal today!\n"
     ]
    }
   ],
   "source": [
    "names_string = input(\"Enter all the names separated by ', ':\")\n",
    "\n",
    "# Example Input : Angela, Ben, Jenny, Michael, Chloe\n",
    "\n",
    "names = names_string.split(\", \")\n",
    "\n",
    "import random\n",
    "\n",
    "print(names[random.randint(0,len(names)-1)] + \" is going to buy the meal today!\")"
   ]
  },
  {
   "cell_type": "markdown",
   "metadata": {},
   "source": [
    "# 3. Treasure Map"
   ]
  },
  {
   "cell_type": "markdown",
   "metadata": {},
   "source": [
    "\n",
    "This is a difficult challenge. 💪\n",
    "\n",
    "You are going to write a program that will mark a spot on a map with an X.\n",
    "\n",
    "In the starting code, you will find a variable called map. This map contains a nested list. When map is printed this is what it looks like, notice the nesting:\n",
    "\n",
    "[['⬜️', '⬜️', '⬜️'],['⬜️', '⬜️', '⬜️'],['⬜️', '⬜️', '⬜️']]\n",
    "\n",
    "This is a bit hard to work with. So on lines 6 and 23, we've used this line of code print(f\"{row1}\\n{row2}\\n{row3}\") to format the 3 lists to be printed as a 3 by 3 grid, each on a new line.\n",
    "\n",
    "['⬜️', '⬜️', '⬜️']\n",
    "\n",
    "['⬜️', '⬜️', '⬜️']\n",
    "\n",
    "['⬜️', '⬜️', '⬜️']\n",
    "\n",
    "Now it looks a bit more like the coordinates of a real map:\n",
    "\n",
    "Your job is to write a program that allows you to mark a square on the map using a letter-number system.\n",
    "\n",
    "![image.png](attachment:image.png)\n",
    "\n",
    "So an input of A3 should place an X at the position shown below:\n",
    "\n",
    "![image-2.png](attachment:image-2.png)\n",
    "\n",
    "First, your program must take the user input and convert it to a usable format.\n",
    "\n",
    "Next, you need to use that input to update your nested list with an \"X\". Remember that your nested list map actually looks like this:\n",
    "\n",
    "[['⬜️', '⬜️', '⬜️'],['⬜️', '⬜️', '⬜️'],['⬜️', '⬜️', '⬜️']]\n",
    "\n",
    "\n",
    "Example Input 1 : B3\n",
    "\n",
    "Example Output 1: Hiding your treasure! X marks the spot.\n",
    "\n",
    "['⬜️', '️⬜️', '️⬜️']\n",
    "\n",
    "['⬜️', '⬜️', '️⬜️']\n",
    "\n",
    "['⬜️️', 'X', '⬜️️']\n",
    "\n",
    "Example Input 2: B1\n",
    "Example Output 2: Hiding your treasure! X marks the spot.\n",
    "\n",
    "['⬜️', 'X', '️⬜️']\n",
    "\n",
    "['⬜️', '⬜️', '️⬜️']\n",
    "\n",
    "['⬜️️', '⬜️️', '⬜️️']\n",
    "\n",
    "\n",
    "Hints: See if this List method helps you: https://www.w3schools.com/python/ref_list_index.asp\n",
    "\n",
    "Remember that nested Lists in Python are accessed from outside to inside. e.g. In the List below:\n",
    "\n",
    "list = [['A', 'B, 'C'], 'E', 'F', 'G']\n",
    "E is list[1] C is list[0][2]\n",
    "\n",
    "Check your formatting. This is correctly formatted:\n",
    "\n",
    "['⬜️', '⬜️', '⬜️']\n",
    "\n",
    "['⬜️', '⬜️', '⬜️']\n",
    "\n",
    "['⬜️', 'X', '⬜️']\n",
    "\n",
    "vs.\n",
    "\n",
    "Incorrectly formatted (missing a space before 'X and extra space after the X and extra space before the comma):\n",
    "\n",
    "['⬜️', '⬜️', '⬜️']\n",
    "\n",
    "['⬜️', '⬜️', '⬜️']\n",
    "\n",
    "['⬜️','X ' , '⬜️']"
   ]
  },
  {
   "cell_type": "code",
   "execution_count": 4,
   "metadata": {},
   "outputs": [
    {
     "name": "stdout",
     "output_type": "stream",
     "text": [
      "Hiding your treasure! X marks the spot.\n",
      "['⬜️', '️⬜️', '️⬜️']\n",
      "['⬜️', '⬜️', '️⬜️']\n",
      "['⬜️️', '⬜️️', 'X']\n"
     ]
    }
   ],
   "source": [
    "# Code\n",
    "line1 = [\"⬜️\",\"️⬜️\",\"️⬜️\"]\n",
    "line2 = [\"⬜️\",\"⬜️\",\"️⬜️\"]\n",
    "line3 = [\"⬜️️\",\"⬜️️\",\"⬜️️\"]\n",
    "map = [line1, line2, line3]\n",
    "print(\"Hiding your treasure! X marks the spot.\")\n",
    "\n",
    "position = input() # Where do you want to put the treasure?\n",
    "\n",
    "x_coordinate = 0\n",
    "y_coordinate = 0\n",
    "\n",
    "if position[0] == \"A\":\n",
    "  x_coordinate = 0\n",
    "elif position[0] == \"B\":\n",
    "  x_coordinate = 1\n",
    "elif position[0] == \"C\":\n",
    "  x_coordinate = 2\n",
    "else:\n",
    "  print(\"Unbound Index\")\n",
    "\n",
    "if position[1] == \"1\":\n",
    "  y_coordinate = 0\n",
    "elif position[1] == \"2\":\n",
    "  y_coordinate = 1\n",
    "elif position[1] == \"3\":\n",
    "  y_coordinate = 2\n",
    "else:\n",
    "  print(\"Unbound Index\")\n",
    "\n",
    "map[y_coordinate][x_coordinate] = \"X\"\n",
    "\n",
    "# Write your code above this row 👆\n",
    "# 🚨 Don't change the code below 👇\n",
    "print(f\"{line1}\\n{line2}\\n{line3}\")\n",
    "\n",
    "# Tested for C3"
   ]
  },
  {
   "cell_type": "code",
   "execution_count": 6,
   "metadata": {},
   "outputs": [
    {
     "name": "stdout",
     "output_type": "stream",
     "text": [
      "Hiding your treasure! X marks the spot.\n",
      "['⬜️', '️⬜️', '️⬜️']\n",
      "['⬜️', 'X', '️⬜️']\n",
      "['⬜️️', '⬜️️', '⬜️️']\n"
     ]
    }
   ],
   "source": [
    "# Another way of doing this :\n",
    "\n",
    "line1 = [\"⬜️\",\"️⬜️\",\"️⬜️\"]\n",
    "line2 = [\"⬜️\",\"⬜️\",\"️⬜️\"]\n",
    "line3 = [\"⬜️️\",\"⬜️️\",\"⬜️️\"]\n",
    "map = [line1, line2, line3]\n",
    "print(\"Hiding your treasure! X marks the spot.\")\n",
    "position = input() # Where do you want to put the treasure?\n",
    "# Your code below\n",
    "letter = position[0].lower()\n",
    "abc = [\"a\", \"b\", \"c\"]\n",
    "letter_index = abc.index(letter)\n",
    "number_index = int(position[1]) - 1\n",
    "map[number_index][letter_index] = \"X\"\n",
    "\n",
    "print(f\"{line1}\\n{line2}\\n{line3}\")\n",
    "\n",
    "# Tested for B2"
   ]
  },
  {
   "cell_type": "markdown",
   "metadata": {},
   "source": [
    "# 4. Rock Paper Scissors"
   ]
  },
  {
   "cell_type": "markdown",
   "metadata": {},
   "source": [
    "Build a rock paper scissors game.\n",
    "\n",
    "Start by asking the user to input 0 for Rock, 1 for Paper or 2 for Scissors.\n",
    "\n",
    "Rules for Rock Paper Scissors : https://wrpsa.com/\n",
    "\n"
   ]
  },
  {
   "cell_type": "code",
   "execution_count": 20,
   "metadata": {},
   "outputs": [],
   "source": [
    "import random"
   ]
  },
  {
   "cell_type": "code",
   "execution_count": 7,
   "metadata": {},
   "outputs": [],
   "source": [
    "rock = '''\n",
    "    _______\n",
    "---'   ____)\n",
    "      (_____)\n",
    "      (_____)\n",
    "      (____)\n",
    "---.__(___)\n",
    "'''\n",
    "\n",
    "paper = '''\n",
    "    _______\n",
    "---'   ____)____\n",
    "          ______)\n",
    "          _______)\n",
    "         _______)\n",
    "---.__________)\n",
    "'''\n",
    "\n",
    "scissors = '''\n",
    "    _______\n",
    "---'   ____)____\n",
    "          ______)\n",
    "       __________)\n",
    "      (____)\n",
    "---.__(___)\n",
    "'''"
   ]
  },
  {
   "cell_type": "code",
   "execution_count": 44,
   "metadata": {},
   "outputs": [
    {
     "name": "stdout",
     "output_type": "stream",
     "text": [
      "Welcome to the wonderful game of Rock, Paper and Scissors!\n",
      "\n",
      "You've chosen : 0\n",
      "\n",
      "    _______\n",
      "---'   ____)\n",
      "      (_____)\n",
      "      (_____)\n",
      "      (____)\n",
      "---.__(___)\n",
      "\n",
      "Computer chose : \n",
      "    _______\n",
      "---'   ____)____\n",
      "          ______)\n",
      "       __________)\n",
      "      (____)\n",
      "---.__(___)\n",
      "\n",
      "Congratulations! You win.\n"
     ]
    }
   ],
   "source": [
    "all_inputs = [rock, paper, scissors]\n",
    "comp = random.randint(0,2)\n",
    "\n",
    "print(\"Welcome to the wonderful game of Rock, Paper and Scissors!\")\n",
    "\n",
    "user = int(input(\"What would you like to choose? (Type 0 for rock, 1 for paper and 2 for scissors:)\"))\n",
    "\n",
    "if user >= 3 or user<0:\n",
    "    print(\"Wrong input. You lose.\")\n",
    "else:\n",
    "    print(f\"\\nYou've chosen : {user}\\n{all_inputs[user]}\")\n",
    "    print(f\"Computer chose : {all_inputs[comp]}\")\n",
    "    if user == comp:\n",
    "        print(\"Its a Draw!!!!\")\n",
    "    elif (user == 0 and comp == 2) or (user == 2 and comp == 1) or (user == 1 and comp == 0):\n",
    "        print(\"Congratulations! You win.\")\n",
    "    else:\n",
    "        print(\"Oops! You Lose.\")"
   ]
  },
  {
   "cell_type": "code",
   "execution_count": null,
   "metadata": {},
   "outputs": [],
   "source": []
  }
 ],
 "metadata": {
  "kernelspec": {
   "display_name": "Python 3",
   "language": "python",
   "name": "python3"
  },
  "language_info": {
   "codemirror_mode": {
    "name": "ipython",
    "version": 3
   },
   "file_extension": ".py",
   "mimetype": "text/x-python",
   "name": "python",
   "nbconvert_exporter": "python",
   "pygments_lexer": "ipython3",
   "version": "3.12.2"
  }
 },
 "nbformat": 4,
 "nbformat_minor": 2
}
