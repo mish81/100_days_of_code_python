{
 "cells": [
  {
   "cell_type": "markdown",
   "metadata": {},
   "source": [
    "# Random numbers (integers and floats)"
   ]
  },
  {
   "cell_type": "code",
   "execution_count": 19,
   "metadata": {},
   "outputs": [],
   "source": [
    "# Starting with package import\n",
    "import random as r"
   ]
  },
  {
   "cell_type": "code",
   "execution_count": 20,
   "metadata": {},
   "outputs": [
    {
     "data": {
      "text/plain": [
       "33"
      ]
     },
     "execution_count": 20,
     "metadata": {},
     "output_type": "execute_result"
    }
   ],
   "source": [
    "# Random integer generation\n",
    "r.randint(0,100)"
   ]
  },
  {
   "cell_type": "code",
   "execution_count": 21,
   "metadata": {},
   "outputs": [
    {
     "data": {
      "text/plain": [
       "0.8580835681639987"
      ]
     },
     "execution_count": 21,
     "metadata": {},
     "output_type": "execute_result"
    }
   ],
   "source": [
    "# Random number generator for float\n",
    "# Generates number between 0.0000000 and 0.9999999\n",
    "r.random()"
   ]
  },
  {
   "cell_type": "code",
   "execution_count": 22,
   "metadata": {},
   "outputs": [
    {
     "data": {
      "text/plain": [
       "1.0218168307251756"
      ]
     },
     "execution_count": 22,
     "metadata": {},
     "output_type": "execute_result"
    }
   ],
   "source": [
    "# To generate number between 0 to 5 having decimal places we can simply multiply the output from above code with integer values\n",
    "5 * r.random()"
   ]
  },
  {
   "cell_type": "markdown",
   "metadata": {},
   "source": [
    "# Lists\n",
    "List is a form of Data Structure\n",
    "\n",
    "Data Structures are used to store a grouped piece of data which has some form of linking between each other. Example : States in a country\n",
    "\n",
    "Lists are denoted/called by Square Brackets - []"
   ]
  },
  {
   "cell_type": "code",
   "execution_count": 33,
   "metadata": {},
   "outputs": [],
   "source": [
    "# Storing all names of states in US\n",
    "# Without using list\n",
    "state1 = \"Delaware\"\n",
    "state2 = \"Pennsylvania\"\n",
    "\n",
    "# Using list\n",
    "states = ['Delaware','Pennsylvania',\"Alaska\",\"Nebraska\",\"Utah\"]"
   ]
  },
  {
   "cell_type": "markdown",
   "metadata": {},
   "source": [
    "Order is not lost when storing data as list. This means if Delaware is stored before Pennsylvania, states[0] will always return Delaware"
   ]
  },
  {
   "cell_type": "code",
   "execution_count": 34,
   "metadata": {},
   "outputs": [
    {
     "name": "stdout",
     "output_type": "stream",
     "text": [
      "Delaware\n",
      "Pennsylvania\n"
     ]
    }
   ],
   "source": [
    "print(states[0])\n",
    "print(states[1])"
   ]
  },
  {
   "cell_type": "code",
   "execution_count": 35,
   "metadata": {},
   "outputs": [
    {
     "data": {
      "text/plain": [
       "'Utah'"
      ]
     },
     "execution_count": 35,
     "metadata": {},
     "output_type": "execute_result"
    }
   ],
   "source": [
    "# Referencing can be positive number or negative number.\n",
    "# Negative indices start counting from the end, starting with -1.\n",
    "states[-1]"
   ]
  },
  {
   "cell_type": "code",
   "execution_count": 36,
   "metadata": {},
   "outputs": [
    {
     "name": "stdout",
     "output_type": "stream",
     "text": [
      "['Delaware', 'Pennsylvania', 'Alaska', 'Nebraska', 'Utah', 'New_State']\n"
     ]
    }
   ],
   "source": [
    "# To add to a new item at the end\n",
    "states.append(\"New_State\")\n",
    "print(states)"
   ]
  },
  {
   "cell_type": "code",
   "execution_count": 37,
   "metadata": {},
   "outputs": [
    {
     "name": "stdout",
     "output_type": "stream",
     "text": [
      "['Hawaii', 'Pennsylvania', 'Alaska', 'Nebraska', 'Utah', 'New_State']\n"
     ]
    }
   ],
   "source": [
    "# To change a particular element in an existing list\n",
    "# Changing Delaware to Hawaii\n",
    "states[0] = \"Hawaii\"\n",
    "print(states)"
   ]
  },
  {
   "cell_type": "markdown",
   "metadata": {},
   "source": [
    "More actions that can be performed using Lists :\n",
    "\n",
    "https://docs.python.org/3/tutorial/datastructures.html"
   ]
  },
  {
   "cell_type": "code",
   "execution_count": 39,
   "metadata": {},
   "outputs": [],
   "source": [
    "# Common errors when working with lists : 'IndexError'\n",
    "# This happens because the list index call which is higher than list size "
   ]
  },
  {
   "cell_type": "markdown",
   "metadata": {},
   "source": [
    "Dirty Dozen : Worst food items based on pesticide content\n",
    "\n",
    "Link : https://www.delish.com/food-news/a26872638/dirty-dozen-foods-list-2019/"
   ]
  },
  {
   "cell_type": "code",
   "execution_count": 42,
   "metadata": {},
   "outputs": [
    {
     "name": "stdout",
     "output_type": "stream",
     "text": [
      "[['Strawberries', 'Nectarines', 'Apples', 'Grapes', 'Peaches', 'Cherries', 'Pears', 'Tomatoes'], ['Spinach', 'Kale', 'Celery', 'Potatoes']]\n",
      "['Strawberries', 'Nectarines', 'Apples', 'Grapes', 'Peaches', 'Cherries', 'Pears', 'Tomatoes']\n",
      "Nectarines\n"
     ]
    }
   ],
   "source": [
    "# List in list\n",
    "# Splitting the dirty dozeb into vegetables and fruits\n",
    "\n",
    "dirty_dozen = [[\"Strawberries\",\"Nectarines\",\"Apples\",\"Grapes\",\"Peaches\",\"Cherries\",\"Pears\",\"Tomatoes\"],[\"Spinach\",\"Kale\",\"Celery\",\"Potatoes\"]]\n",
    "\n",
    "# Printing list of list\n",
    "print(dirty_dozen)\n",
    "\n",
    "# Printing the first list \n",
    "print(dirty_dozen[0])\n",
    "\n",
    "# Priting the 2nd item from the first list\n",
    "print(dirty_dozen[0][1])"
   ]
  },
  {
   "cell_type": "code",
   "execution_count": null,
   "metadata": {},
   "outputs": [],
   "source": []
  }
 ],
 "metadata": {
  "kernelspec": {
   "display_name": "Python 3",
   "language": "python",
   "name": "python3"
  },
  "language_info": {
   "codemirror_mode": {
    "name": "ipython",
    "version": 3
   },
   "file_extension": ".py",
   "mimetype": "text/x-python",
   "name": "python",
   "nbconvert_exporter": "python",
   "pygments_lexer": "ipython3",
   "version": "3.12.2"
  }
 },
 "nbformat": 4,
 "nbformat_minor": 2
}
