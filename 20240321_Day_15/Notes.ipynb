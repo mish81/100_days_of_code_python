{
 "cells": [
  {
   "cell_type": "markdown",
   "metadata": {},
   "source": [
    "## Coffee Machine Program Requirements"
   ]
  },
  {
   "cell_type": "markdown",
   "metadata": {},
   "source": [
    "1. Prompt user by asking “ What would you like? (espresso/latte/cappuccino): ”\n",
    "\n",
    "    a. Check the user’s input to decide what to do next.\n",
    "\n",
    "    b. The prompt should show every time action has completed, e.g. once the drink is\n",
    "dispensed. The prompt should show again to serve the next customer.\n"
   ]
  },
  {
   "cell_type": "markdown",
   "metadata": {},
   "source": [
    "2. Turn off the Coffee Machine by entering “ off ” to the prompt.\n",
    "\n",
    "    a. For maintainers of the coffee machine, they can use “off” as the secret word to turn off the machine. Your code should end execution when this happens."
   ]
  },
  {
   "cell_type": "markdown",
   "metadata": {},
   "source": [
    "3. Print report.\n",
    "\n",
    "    a. When the user enters “report” to the prompt, a report should be generated that shows the current resource values. e.g.\n",
    "\n",
    "    Water: 100ml\n",
    "\n",
    "    Milk: 50ml\n",
    "\n",
    "    Coffee: 76g\n",
    "\n",
    "    Money: $2.5\n"
   ]
  },
  {
   "cell_type": "markdown",
   "metadata": {},
   "source": [
    "4. Check resources sufficient?\n",
    "\n",
    "    a. When the user chooses a drink, the program should check if there are enough resources to make that drink.\n",
    "\n",
    "    b. E.g. if Latte requires 200ml water but there is only 100ml left in the machine. It should not continue to make the drink but print: “ Sorry there is not enough water. ”\n",
    "\n",
    "    c. The same should happen if another resource is depleted, e.g. milk or coffee."
   ]
  },
  {
   "cell_type": "markdown",
   "metadata": {},
   "source": [
    "5. Process coins.\n",
    "\n",
    "    a. If there are sufficient resources to make the drink selected, then the program should prompt the user to insert coins.\n",
    "\n",
    "    b. Remember that quarters = $0.25, dimes = $0.10, nickles = $0.05, pennies = $0.01\n",
    "\n",
    "    c. Calculate the monetary value of the coins inserted. E.g. 1 quarter, 2 dimes, 1 nickel, 2 pennies = 0.25 + 0.1 x 2 + 0.05 + 0.01 x 2 = $0.52"
   ]
  },
  {
   "cell_type": "markdown",
   "metadata": {},
   "source": [
    "6. Check transaction successful?\n",
    "\n",
    "    a. Check that the user has inserted enough money to purchase the drink they selected. E.g Latte cost $2.50, but they only inserted $0.52 then after counting the coins the program should say “ Sorry that's not enough money. Money refunded. ”.\n",
    "\n",
    "    b. But if the user has inserted enough money, then the cost of the drink gets added to the machine as the profit and this will be reflected the next time “report” is triggered. E.g.\n",
    "\n",
    "    Water: 100ml\n",
    "\n",
    "    Milk: 50ml\n",
    "\n",
    "    Coffee: 76g\n",
    "\n",
    "    Money: $2.5\n",
    "\n",
    "    c. If the user has inserted too much money, the machine should offer change. E.g. “Here is $2.45 dollars in change.” The change should be rounded to 2 decimal places."
   ]
  },
  {
   "cell_type": "markdown",
   "metadata": {},
   "source": [
    "7. Make Coffee.\n",
    "\n",
    "    a. If the transaction is successful and there are enough resources to make the drink the user selected, then the ingredients to make the drink should be deducted from the coffee machine resources. E.g. report before purchasing latte:\n",
    "    Water: 300ml Milk: 200ml Coffee: 100g Money: $0\n",
    "    \n",
    "    Report after purchasing latte:\n",
    "    Water: 100ml Milk: 50ml Coffee: 76g Money: $2.5\n",
    "\n",
    "    b. Once all resources have been deducted, tell the user “Here is your latte. Enjoy!”. If latte was their choice of drink."
   ]
  },
  {
   "cell_type": "markdown",
   "metadata": {},
   "source": []
  }
 ],
 "metadata": {
  "language_info": {
   "name": "python"
  }
 },
 "nbformat": 4,
 "nbformat_minor": 2
}
