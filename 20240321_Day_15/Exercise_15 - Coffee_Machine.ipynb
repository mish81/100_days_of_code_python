{
 "cells": [
  {
   "cell_type": "markdown",
   "metadata": {},
   "source": [
    "## Create a Coffee Machine"
   ]
  },
  {
   "cell_type": "markdown",
   "metadata": {},
   "source": [
    "### MENU Details"
   ]
  },
  {
   "cell_type": "code",
   "execution_count": 47,
   "metadata": {},
   "outputs": [],
   "source": [
    "MENU = {\n",
    "    \"espresso\": {\n",
    "        \"ingredients\": {\n",
    "            \"water\": 50,\n",
    "            \"milk\": 0,\n",
    "            \"coffee\": 18,\n",
    "        },\n",
    "        \"cost\": 1.5,\n",
    "    },\n",
    "    \"latte\": {\n",
    "        \"ingredients\": {\n",
    "            \"water\": 200,\n",
    "            \"milk\": 150,\n",
    "            \"coffee\": 24,\n",
    "        },\n",
    "        \"cost\": 2.5,\n",
    "    },\n",
    "    \"cappuccino\": {\n",
    "        \"ingredients\": {\n",
    "            \"water\": 250,\n",
    "            \"milk\": 100,\n",
    "            \"coffee\": 24,\n",
    "        },\n",
    "        \"cost\": 3.0,\n",
    "    }\n",
    "}\n",
    "\n",
    "resources = {\n",
    "    \"water\": 300,\n",
    "    \"milk\": 200,\n",
    "    \"coffee\": 100,\n",
    "}\n",
    "\n",
    "money = 0"
   ]
  },
  {
   "cell_type": "markdown",
   "metadata": {},
   "source": [
    "### Code"
   ]
  },
  {
   "cell_type": "code",
   "execution_count": 48,
   "metadata": {},
   "outputs": [],
   "source": [
    "def resource_check(choice):\n",
    "    \"\"\"Can be called to check if the machine has enough resouces to make coffee\"\"\"\n",
    "    flag = 0\n",
    "    resource_needed = MENU[choice][\"ingredients\"]\n",
    "    resource_available = resources\n",
    "    for item in resource_needed:\n",
    "        if resource_needed[item] > resource_available[item]:\n",
    "            flag += 1\n",
    "\n",
    "    if flag >= 1:\n",
    "        print(\"Insufficient Resources. Please refill\")\n",
    "        return False\n",
    "    else:\n",
    "        return True"
   ]
  },
  {
   "cell_type": "code",
   "execution_count": 49,
   "metadata": {},
   "outputs": [],
   "source": [
    "def report():\n",
    "    \"\"\"Can be called to print the amount of resources currently available in the machine\"\"\"\n",
    "    print(\"List of resources available:\")\n",
    "    print(f\"Water: {resources[\"water\"]}ml\")\n",
    "    print(f\"Milk: {resources[\"milk\"]}ml\")\n",
    "    print(f\"Coffee: {resources[\"coffee\"]}gm\")\n",
    "    print(f\"Money: ${money}\")"
   ]
  },
  {
   "cell_type": "code",
   "execution_count": 50,
   "metadata": {},
   "outputs": [],
   "source": [
    "def coins():\n",
    "    \"\"\"Used for processing coins\"\"\"\n",
    "    global money\n",
    "    price = MENU[choice][\"cost\"]\n",
    "    print(f\"Price of your coffee: ${price}\")\n",
    "    quarters = int(input(\"Enter the number of quarters\"))\n",
    "    dimes = int(input(\"Enter the number of dimes\"))\n",
    "    nickles = int(input(\"Enter the number of nickles\"))\n",
    "    pennies = int(input(\"Enter the number of pennies\"))\n",
    "    user_money = quarters*0.25+dimes*0.1+nickles*0.05+pennies*0.01\n",
    "\n",
    "    if price > user_money:\n",
    "        print(\"Too less money. Coffee can not be processed. Your money is refunded\")\n",
    "        return\n",
    "    elif user_money > price :\n",
    "        money += price\n",
    "        user_money -= price\n",
    "        print(f\"Here is ${user_money} in change. Enjoy your coffee.\")\n",
    "    elif user_money == price :\n",
    "        money += price\n",
    "        user_money -= price\n",
    "        print(\"Enjoy your coffee.\")"
   ]
  },
  {
   "cell_type": "code",
   "execution_count": 51,
   "metadata": {},
   "outputs": [],
   "source": [
    "def resource_update():\n",
    "    \"\"\"Updating resources after successful processing\"\"\"\n",
    "    resource_needed = MENU[choice][\"ingredients\"]\n",
    "    for item in resources:\n",
    "        resources[item] -= resource_needed[item]"
   ]
  },
  {
   "cell_type": "code",
   "execution_count": 54,
   "metadata": {},
   "outputs": [
    {
     "name": "stdout",
     "output_type": "stream",
     "text": [
      "Invalid input. Please try again.\n",
      "List of resources available:\n",
      "Water: 0ml\n",
      "Milk: 100ml\n",
      "Coffee: 58gm\n",
      "Money: $4.5\n",
      "Insufficient Resources. Please refill\n",
      "List of resources available:\n",
      "Water: 0ml\n",
      "Milk: 100ml\n",
      "Coffee: 58gm\n",
      "Money: $4.5\n"
     ]
    }
   ],
   "source": [
    "is_on = True\n",
    "while is_on == True:\n",
    "    choice = input(\"☕What would you like? (espresso/latte/cuppaccino):\")\n",
    "    if choice == \"off\":\n",
    "        is_on = False\n",
    "    elif choice == \"report\":\n",
    "        report()\n",
    "    elif choice == \"espresso\" or choice == \"latte\" or choice == \"cuppaccino\":\n",
    "        check = resource_check(choice)\n",
    "        if check == True:\n",
    "            coins()\n",
    "            resource_update()\n",
    "    else:\n",
    "        print(\"Invalid input. Please try again.\")"
   ]
  }
 ],
 "metadata": {
  "kernelspec": {
   "display_name": "Python 3",
   "language": "python",
   "name": "python3"
  },
  "language_info": {
   "codemirror_mode": {
    "name": "ipython",
    "version": 3
   },
   "file_extension": ".py",
   "mimetype": "text/x-python",
   "name": "python",
   "nbconvert_exporter": "python",
   "pygments_lexer": "ipython3",
   "version": "3.12.2"
  }
 },
 "nbformat": 4,
 "nbformat_minor": 2
}
