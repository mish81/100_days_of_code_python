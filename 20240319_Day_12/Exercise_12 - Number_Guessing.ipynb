{
 "cells": [
  {
   "cell_type": "markdown",
   "metadata": {},
   "source": [
    "# Number Guessing Game"
   ]
  },
  {
   "cell_type": "code",
   "execution_count": 8,
   "metadata": {},
   "outputs": [
    {
     "name": "stdout",
     "output_type": "stream",
     "text": [
      "89\n"
     ]
    }
   ],
   "source": [
    "# Define random global variable\n",
    "import random\n",
    "NUMBER = random.randint(1,100)\n",
    "print(NUMBER)"
   ]
  },
  {
   "cell_type": "code",
   "execution_count": 9,
   "metadata": {},
   "outputs": [
    {
     "name": "stdout",
     "output_type": "stream",
     "text": [
      "Welcome to the Number Guessing Game\n",
      "Your guess 45 is too low. You have 5 remaining.\n",
      "Your guess 65 is too low. You have 4 remaining.\n",
      "Your guess 85 is too low. You have 3 remaining.\n",
      "Your guess 90 is too high. You have 2 remaining.\n",
      "Congratulations, you win the game! You were able to guess the right number with 1 remaining.\n"
     ]
    }
   ],
   "source": [
    "print(f\"Welcome to the Number Guessing Game\")\n",
    "level = input(\"Please enter the difficulty level (hard/easy) : \")\n",
    "\n",
    "if level == \"hard\":\n",
    "    lifes = 5\n",
    "elif level == \"easy\":\n",
    "    lifes = 10\n",
    "else:\n",
    "    print(\"Invalid entry\")\n",
    "\n",
    "while lifes > 0:\n",
    "    guess = int(input(\"Please guess the number : \"))\n",
    "    if guess > NUMBER:\n",
    "        print(f\"Your guess {guess} is too high. You have {lifes} remaining.\")\n",
    "    elif guess < NUMBER:\n",
    "        print(f\"Your guess {guess} is too low. You have {lifes} remaining.\")\n",
    "    elif guess == NUMBER:\n",
    "        print(f\"Congratulations, you win the game! You were able to guess the right number with {lifes} remaining.\")\n",
    "        lifes = 0\n",
    "    lifes -= 1"
   ]
  },
  {
   "cell_type": "code",
   "execution_count": null,
   "metadata": {},
   "outputs": [],
   "source": []
  }
 ],
 "metadata": {
  "kernelspec": {
   "display_name": "Python 3",
   "language": "python",
   "name": "python3"
  },
  "language_info": {
   "codemirror_mode": {
    "name": "ipython",
    "version": 3
   },
   "file_extension": ".py",
   "mimetype": "text/x-python",
   "name": "python",
   "nbconvert_exporter": "python",
   "pygments_lexer": "ipython3",
   "version": "3.12.2"
  }
 },
 "nbformat": 4,
 "nbformat_minor": 2
}
