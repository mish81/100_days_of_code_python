{
 "cells": [
  {
   "cell_type": "markdown",
   "metadata": {},
   "source": [
    "# How to fix bugs"
   ]
  },
  {
   "cell_type": "markdown",
   "metadata": {},
   "source": [
    "Step 1 : Describe the problem.\n",
    "\n",
    "Step 2 : Reproduce the Bug\n",
    "\n",
    "Step 3 : Play Computer\n",
    "\n",
    "Step 4 : Use print() statements for debugging"
   ]
  }
 ],
 "metadata": {
  "language_info": {
   "name": "python"
  }
 },
 "nbformat": 4,
 "nbformat_minor": 2
}
