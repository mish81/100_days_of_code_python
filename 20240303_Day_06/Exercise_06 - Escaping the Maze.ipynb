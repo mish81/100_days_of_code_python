{
 "cells": [
  {
   "cell_type": "markdown",
   "metadata": {},
   "source": [
    "# Reeborg's World : Maze"
   ]
  },
  {
   "cell_type": "markdown",
   "metadata": {},
   "source": [
    "Link : https://reeborg.ca/reeborg.html?lang=en&mode=python&menu=worlds%2Fmenus%2Freeborg_intro_en.json&name=Maze&url=worlds%2Ftutorial_en%2Fmaze1.json"
   ]
  },
  {
   "cell_type": "code",
   "execution_count": null,
   "metadata": {},
   "outputs": [],
   "source": [
    "def turn_right():\n",
    "    turn_left()\n",
    "    turn_left()\n",
    "    turn_left()\n",
    "    \n",
    "def turn_around():\n",
    "    turn_left()\n",
    "    turn_left()\n",
    "\n",
    "while front_is_clear() == 1:\n",
    "    move()\n",
    "turn_left()\n",
    "\n",
    "while at_goal() != 1:\n",
    "    if right_is_clear() == 1:\n",
    "        turn_right()\n",
    "        move()\n",
    "    elif front_is_clear() == 1:\n",
    "        move()\n",
    "    elif front_is_clear() == 0 and right_is_clear() == 0:\n",
    "        turn_left()"
   ]
  }
 ],
 "metadata": {
  "language_info": {
   "name": "python"
  }
 },
 "nbformat": 4,
 "nbformat_minor": 2
}
