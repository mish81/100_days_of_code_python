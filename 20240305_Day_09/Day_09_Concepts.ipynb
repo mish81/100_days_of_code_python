{
 "cells": [
  {
   "cell_type": "markdown",
   "metadata": {},
   "source": [
    "# Dictionaires and Nesting"
   ]
  },
  {
   "cell_type": "markdown",
   "metadata": {},
   "source": [
    "Dictionaries are key, value pairs.\n",
    "\n",
    "Format : {key:value} pairs"
   ]
  },
  {
   "cell_type": "code",
   "execution_count": 10,
   "metadata": {},
   "outputs": [],
   "source": [
    "# Example\n",
    "programming_dict = {\n",
    "    \"Bug\":\"Error in program that prevents it from running.\",\n",
    "    \"Function\":\"Piece of code that can be recalled again and again.\"\n",
    "}"
   ]
  },
  {
   "cell_type": "code",
   "execution_count": 11,
   "metadata": {},
   "outputs": [
    {
     "data": {
      "text/plain": [
       "'Error in program that prevents it from running.'"
      ]
     },
     "execution_count": 11,
     "metadata": {},
     "output_type": "execute_result"
    }
   ],
   "source": [
    "# Calling a dictionary\n",
    "# Lists are called using index l[3]\n",
    "# Dictionaries are called using key\n",
    "programming_dict[\"Bug\"]"
   ]
  },
  {
   "cell_type": "code",
   "execution_count": 12,
   "metadata": {},
   "outputs": [
    {
     "ename": "KeyError",
     "evalue": "'Bag'",
     "output_type": "error",
     "traceback": [
      "\u001b[1;31m---------------------------------------------------------------------------\u001b[0m",
      "\u001b[1;31mKeyError\u001b[0m                                  Traceback (most recent call last)",
      "Cell \u001b[1;32mIn[12], line 2\u001b[0m\n\u001b[0;32m      1\u001b[0m \u001b[38;5;66;03m# Key error occurs when you try to recall a key which is not present in the code\u001b[39;00m\n\u001b[1;32m----> 2\u001b[0m \u001b[43mprogramming_dict\u001b[49m\u001b[43m[\u001b[49m\u001b[38;5;124;43m\"\u001b[39;49m\u001b[38;5;124;43mBag\u001b[39;49m\u001b[38;5;124;43m\"\u001b[39;49m\u001b[43m]\u001b[49m\n",
      "\u001b[1;31mKeyError\u001b[0m: 'Bag'"
     ]
    }
   ],
   "source": [
    "# Key error occurs when you try to recall a key which is not present in the code\n",
    "programming_dict[\"Bag\"]"
   ]
  },
  {
   "cell_type": "code",
   "execution_count": 13,
   "metadata": {},
   "outputs": [],
   "source": [
    "# Ensure that both key initialization and key call has \"\""
   ]
  },
  {
   "cell_type": "code",
   "execution_count": 14,
   "metadata": {},
   "outputs": [
    {
     "name": "stdout",
     "output_type": "stream",
     "text": [
      "{'Bug': 'Error in program that prevents it from running.', 'Function': 'Piece of code that can be recalled again and again.', 'Loop': 'Action of doing something again and again'}\n"
     ]
    }
   ],
   "source": [
    "# Adding a new element to existing dictionary\n",
    "programming_dict[\"Loop\"] = \"Action of doing something again and again\"\n",
    "\n",
    "print(programming_dict)"
   ]
  },
  {
   "cell_type": "code",
   "execution_count": 9,
   "metadata": {},
   "outputs": [],
   "source": [
    "# Empty dictionary can be created by curly brackets\n",
    "empty_dict = {}"
   ]
  },
  {
   "cell_type": "code",
   "execution_count": 7,
   "metadata": {},
   "outputs": [
    {
     "name": "stdout",
     "output_type": "stream",
     "text": [
      "{}\n"
     ]
    }
   ],
   "source": [
    "# Wipe an existing dictionary\n",
    "programming_dict = {}\n",
    "print(programming_dict)"
   ]
  },
  {
   "cell_type": "code",
   "execution_count": 15,
   "metadata": {},
   "outputs": [
    {
     "name": "stdout",
     "output_type": "stream",
     "text": [
      "Problem in your code\n"
     ]
    }
   ],
   "source": [
    "# Edit an item in a dictionary\n",
    "programming_dict[\"Bug\"] = \"Problem in your code\"\n",
    "print(programming_dict[\"Bug\"])"
   ]
  },
  {
   "cell_type": "code",
   "execution_count": 18,
   "metadata": {},
   "outputs": [
    {
     "name": "stdout",
     "output_type": "stream",
     "text": [
      "Bug\n",
      "Problem in your code\n",
      "Function\n",
      "Piece of code that can be recalled again and again.\n",
      "Loop\n",
      "Action of doing something again and again\n"
     ]
    }
   ],
   "source": [
    "# Loop through a dictionary\n",
    "for key in programming_dict:\n",
    "    print(key)\n",
    "    print(programming_dict[key])"
   ]
  },
  {
   "cell_type": "markdown",
   "metadata": {},
   "source": [
    "# Nesting Lists and Dictionaries"
   ]
  },
  {
   "cell_type": "markdown",
   "metadata": {},
   "source": [
    "Dictionaries can also have the following format :\n",
    "\n",
    "{\n",
    "    key : [List],\n",
    "    key2 : {Dict}\n",
    "}"
   ]
  },
  {
   "cell_type": "code",
   "execution_count": 19,
   "metadata": {},
   "outputs": [],
   "source": [
    "# Nesting\n",
    "capitals = {\n",
    "    \"France\": \"Paris\",\n",
    "    \"Germany\": \"Berlin\",\n",
    "    \"India\": \"Delhi\"\n",
    "}"
   ]
  },
  {
   "cell_type": "code",
   "execution_count": 23,
   "metadata": {},
   "outputs": [
    {
     "name": "stdout",
     "output_type": "stream",
     "text": [
      "{'France': ['Paris', 'Lille', 'Dijon'], 'Germany': ['Berlin', 'Hamburg', 'Stuttgrat']}\n",
      "['Paris', 'Lille', 'Dijon']\n",
      "Paris\n"
     ]
    }
   ],
   "source": [
    "# Nesting a list in a dictionary\n",
    "travel_log = {\n",
    "    \"France\": [\"Paris\",\"Lille\",\"Dijon\"],\n",
    "    \"Germany\": [\"Berlin\",\"Hamburg\",\"Stuttgrat\"]\n",
    "}\n",
    "print(travel_log)\n",
    "print(travel_log[\"France\"])\n",
    "print(travel_log[\"France\"][0])"
   ]
  },
  {
   "cell_type": "code",
   "execution_count": 25,
   "metadata": {},
   "outputs": [
    {
     "name": "stdout",
     "output_type": "stream",
     "text": [
      "{'France': {'cities_visited': ['Paris', 'Lille', 'Dijon'], 'total_visits': 12}, 'Germany': {'cities_visited': ['Berlin', 'Hamburg', 'Stuttgrat'], 'total_visits': 5}}\n",
      "{'cities_visited': ['Paris', 'Lille', 'Dijon'], 'total_visits': 12}\n",
      "['Paris', 'Lille', 'Dijon']\n",
      "Paris\n"
     ]
    }
   ],
   "source": [
    "# Nesting a dict in dict\n",
    "travel_log = {\n",
    "    \"France\": {\"cities_visited\":[\"Paris\",\"Lille\",\"Dijon\"], \"total_visits\": 12},\n",
    "    \"Germany\": {\"cities_visited\":[\"Berlin\",\"Hamburg\",\"Stuttgrat\"], \"total_visits\":5}\n",
    "}\n",
    "print(travel_log)\n",
    "print(travel_log[\"France\"])\n",
    "print(travel_log[\"France\"][\"cities_visited\"])\n",
    "print(travel_log[\"France\"][\"cities_visited\"][0])"
   ]
  },
  {
   "cell_type": "code",
   "execution_count": 30,
   "metadata": {},
   "outputs": [],
   "source": [
    "# Nesting a dict in list\n",
    "travel_log = [\n",
    "    {\n",
    "        \"France\": {\n",
    "            \"cities_visited\":[\"Paris\",\"Lille\",\"Dijon\"], \n",
    "            \"total_visits\": 12\n",
    "            }\n",
    "    },\n",
    "    {\n",
    "        \"Germany\": {\n",
    "            \"cities_visited\":[\"Berlin\",\"Hamburg\",\"Stuttgrat\"], \n",
    "            \"total_visits\":5\n",
    "            }\n",
    "    }\n",
    "]"
   ]
  },
  {
   "cell_type": "code",
   "execution_count": 33,
   "metadata": {},
   "outputs": [
    {
     "name": "stdout",
     "output_type": "stream",
     "text": [
      "[{'France': {'cities_visited': ['Paris', 'Lille', 'Dijon'], 'total_visits': 12}}, {'Germany': {'cities_visited': ['Berlin', 'Hamburg', 'Stuttgrat'], 'total_visits': 5}}]\n",
      "{'France': {'cities_visited': ['Paris', 'Lille', 'Dijon'], 'total_visits': 12}}\n",
      "['Paris', 'Lille', 'Dijon']\n",
      "Paris\n"
     ]
    }
   ],
   "source": [
    "print(travel_log)\n",
    "print(travel_log[0])\n",
    "print(travel_log[0][\"France\"][\"cities_visited\"])\n",
    "print(travel_log[0][\"France\"][\"cities_visited\"][0])"
   ]
  },
  {
   "cell_type": "code",
   "execution_count": null,
   "metadata": {},
   "outputs": [],
   "source": []
  }
 ],
 "metadata": {
  "kernelspec": {
   "display_name": "Python 3",
   "language": "python",
   "name": "python3"
  },
  "language_info": {
   "codemirror_mode": {
    "name": "ipython",
    "version": 3
   },
   "file_extension": ".py",
   "mimetype": "text/x-python",
   "name": "python",
   "nbconvert_exporter": "python",
   "pygments_lexer": "ipython3",
   "version": "3.12.2"
  }
 },
 "nbformat": 4,
 "nbformat_minor": 2
}
