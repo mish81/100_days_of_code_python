{
 "cells": [
  {
   "cell_type": "code",
   "execution_count": 3,
   "metadata": {},
   "outputs": [
    {
     "name": "stdout",
     "output_type": "stream",
     "text": [
      "The winner of the bid is : Rimjhim. The winning bid is :  $1000\n"
     ]
    }
   ],
   "source": [
    "flag = \"Y\"\n",
    "bids = {}\n",
    "while flag == \"Y\":\n",
    "    name = input(\"Enter name:\")\n",
    "    value = int(input(\"Enter the bid value:\"))\n",
    "\n",
    "    bids[name] = value\n",
    "\n",
    "    flag = input(\"Are there any more bidders? Choose Y/N : \")\n",
    "\n",
    "winner = \"\"\n",
    "max_bid = 0\n",
    "\n",
    "for key in bids:\n",
    "    if bids[key] > max_bid:\n",
    "        max_bid = bids[key]\n",
    "        winner = key\n",
    "\n",
    "print(f\"The winner of the bid is : {winner}. The winning bid is : ${max_bid}\")"
   ]
  },
  {
   "cell_type": "code",
   "execution_count": null,
   "metadata": {},
   "outputs": [],
   "source": []
  }
 ],
 "metadata": {
  "kernelspec": {
   "display_name": "Python 3",
   "language": "python",
   "name": "python3"
  },
  "language_info": {
   "codemirror_mode": {
    "name": "ipython",
    "version": 3
   },
   "file_extension": ".py",
   "mimetype": "text/x-python",
   "name": "python",
   "nbconvert_exporter": "python",
   "pygments_lexer": "ipython3",
   "version": "3.12.2"
  }
 },
 "nbformat": 4,
 "nbformat_minor": 2
}
