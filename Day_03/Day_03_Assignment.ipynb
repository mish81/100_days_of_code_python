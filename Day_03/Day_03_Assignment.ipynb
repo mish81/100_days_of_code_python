{
 "cells": [
  {
   "cell_type": "markdown",
   "metadata": {},
   "source": [
    "# Day 3 - 100 Days of Code\n",
    "Conditional Statements, Logical Operators, Code Blocks, Scope"
   ]
  },
  {
   "cell_type": "markdown",
   "metadata": {},
   "source": [
    "if condition:\n",
    "\n",
    "  do this\n",
    "\n",
    "else:\n",
    "\n",
    "  do this"
   ]
  },
  {
   "cell_type": "code",
   "execution_count": 10,
   "metadata": {},
   "outputs": [
    {
     "name": "stdout",
     "output_type": "stream",
     "text": [
      "Welcome to the rollercoaster!\n",
      "You're eligible\n"
     ]
    }
   ],
   "source": [
    "# Roller coaster height check\n",
    "print(\"Welcome to the rollercoaster!\")\n",
    "height = int(input(\"What is your height in cm?\"))\n",
    "\n",
    "if height >= 120:\n",
    "  print(\"You're eligible\")\n",
    "else:\n",
    "  print(\"Sorry, you are not eligible\")"
   ]
  },
  {
   "cell_type": "code",
   "execution_count": 2,
   "metadata": {},
   "outputs": [
    {
     "name": "stdout",
     "output_type": "stream",
     "text": [
      "This is an odd number.\n"
     ]
    }
   ],
   "source": [
    "# Odd Even check\n",
    "number = int(input())\n",
    "\n",
    "if number % 2 == 0:\n",
    "  print(\"This is an even number.\")\n",
    "else:\n",
    "  print(\"This is an odd number.\")"
   ]
  },
  {
   "cell_type": "code",
   "execution_count": 3,
   "metadata": {},
   "outputs": [
    {
     "name": "stdout",
     "output_type": "stream",
     "text": [
      "You can ride the rollercoaster!\n",
      "Please pay 12$.\n"
     ]
    }
   ],
   "source": [
    "# Nested if else statement\n",
    "height = int(input(\"What is your height?\"))\n",
    "\n",
    "if height >= 120:\n",
    "  print(\"You can ride the rollercoaster!\")\n",
    "  age = int(input(\"Enter your age in years\"))\n",
    "  if age <= 12:\n",
    "    print(\"Please pay 5$.\")\n",
    "  elif age <=18:\n",
    "    print(\"Please pay 7$.\")\n",
    "  else:\n",
    "    print(\"Please pay 12$.\")\n",
    "else:\n",
    "  print(\"Sorry, you are not eligible\")"
   ]
  },
  {
   "cell_type": "code",
   "execution_count": 4,
   "metadata": {},
   "outputs": [
    {
     "name": "stdout",
     "output_type": "stream",
     "text": [
      "Your BMI is 24.816326530612244, you have a normal weight.\n"
     ]
    }
   ],
   "source": [
    "# BMI Calculator\n",
    "# Enter your height in meters e.g., 1.55\n",
    "height = float(input())\n",
    "# Enter your weight in kilograms e.g., 72\n",
    "weight = int(input())\n",
    "\n",
    "bmi = weight/(height**2)\n",
    "\n",
    "if bmi < 18.5:\n",
    "  print(f\"Your BMI is {bmi}, you are underweight.\")\n",
    "elif bmi < 25:\n",
    "  print(f\"Your BMI is {bmi}, you have a normal weight.\")\n",
    "elif bmi < 30:\n",
    "  print(f\"Your BMI is {bmi}, you are slightly overweight.\")\n",
    "elif bmi < 35:\n",
    "  print(f\"Your BMI is {bmi}, you are obese.\")\n",
    "else:\n",
    "  print(f\"Your BMI is {bmi}, you are clinically obese.\")"
   ]
  },
  {
   "cell_type": "code",
   "execution_count": 5,
   "metadata": {},
   "outputs": [
    {
     "name": "stdout",
     "output_type": "stream",
     "text": [
      "Leap year\n"
     ]
    }
   ],
   "source": [
    "# Leap Year\n",
    "# Which year do you want to check?\n",
    "year = int(input())\n",
    "# 🚨 Don't change the code above 👆\n",
    "\n",
    "# Write your code below this line 👇\n",
    "if (year % 4 == 0):\n",
    "  if (year % 100 == 0) and (year % 400 != 0):\n",
    "    print(\"Not leap year\")\n",
    "  elif (year % 100 == 0) and (year % 400 == 0):\n",
    "    print(\"Leap year\")\n",
    "  else:\n",
    "    print(\"Leap year\")\n",
    "else:\n",
    "  print(\"Not leap year\")"
   ]
  },
  {
   "cell_type": "code",
   "execution_count": 6,
   "metadata": {},
   "outputs": [
    {
     "name": "stdout",
     "output_type": "stream",
     "text": [
      "You can ride the rollercoaster!\n",
      "Adult tickets are 12$.\n",
      "Your final bill amount is 15$\n"
     ]
    }
   ],
   "source": [
    "# Nested if else statement\n",
    "height = int(input(\"What is your height?\"))\n",
    "\n",
    "if height >= 120:\n",
    "  bill = 0\n",
    "\n",
    "  print(\"You can ride the rollercoaster!\")\n",
    "\n",
    "  age = int(input(\"Enter your age in years\"))\n",
    "\n",
    "  if age <= 12:\n",
    "    bill = 5\n",
    "    print(\"Child tickets are 5$.\")\n",
    "  elif age <=18:\n",
    "    bill = 7\n",
    "    print(\"Youth tickets are 7$.\")\n",
    "  else:\n",
    "    bill = 12\n",
    "    print(\"Adult tickets are 12$.\")\n",
    "\n",
    "  wants_photo = input(\"Do you want a photo? Answer Y/N\")\n",
    "\n",
    "  if wants_photo == \"Y\":\n",
    "    bill += 3\n",
    "\n",
    "  print(f\"Your final bill amount is {bill}$\")\n",
    "else:\n",
    "  print(\"Sorry, you are not eligible\")"
   ]
  },
  {
   "cell_type": "markdown",
   "metadata": {},
   "source": [
    "Instructions\n",
    "Congratulations, you've got a job at Python Pizza! Your first job is to build an automatic pizza order program. Based on a user's order, work out their final bill.\n",
    "\n",
    "Small pizza (S): $15\n",
    "\n",
    "Medium pizza (M): $20\n",
    "\n",
    "Large pizza (L): $25\n",
    "\n",
    "Add pepperoni for small pizza (Y or N): +$2\n",
    "\n",
    "Add pepperoni for medium or large pizza (Y or N): +$3\n",
    "\n",
    "Add extra cheese for any size pizza (Y or N): +$1\n",
    "\n",
    "Example Input\n",
    "\n",
    "L\n",
    "\n",
    "Y\n",
    "\n",
    "N\n",
    "\n",
    "Example Output\n",
    "\n",
    "Thank you for choosing Python Pizza Deliveries!\n",
    "Your final bill is: $28."
   ]
  },
  {
   "cell_type": "code",
   "execution_count": 7,
   "metadata": {},
   "outputs": [
    {
     "name": "stdout",
     "output_type": "stream",
     "text": [
      "Thank you for choosing Python Pizza Deliveries!\n",
      "Your final bill is: $29.\n"
     ]
    }
   ],
   "source": [
    "# Pizza Price\n",
    "print(\"Thank you for choosing Python Pizza Deliveries!\")\n",
    "size = input() # What size pizza do you want? S, M, or L\n",
    "add_pepperoni = input() # Do you want pepperoni? Y or N\n",
    "extra_cheese = input() # Do you want extra cheese? Y or N\n",
    "# 🚨 Don't change the code above 👆\n",
    "# Write your code below this line 👇\n",
    "bill_size = 0\n",
    "bill_pepperoni = 0\n",
    "bill_cheese = 0\n",
    "\n",
    "if size == \"S\":\n",
    "  bill = 15\n",
    "  if add_pepperoni == \"Y\":\n",
    "    bill += 2\n",
    "  if extra_cheese == \"Y\":\n",
    "    bill += 1\n",
    "elif size == \"M\":\n",
    "  bill = 20\n",
    "  if add_pepperoni == \"Y\":\n",
    "    bill += 3\n",
    "  if extra_cheese == \"Y\":\n",
    "    bill += 1\n",
    "else:\n",
    "  bill = 25\n",
    "  if add_pepperoni == \"Y\":\n",
    "    bill += 3\n",
    "  if extra_cheese == \"Y\":\n",
    "    bill += 1\n",
    "\n",
    "print(f\"Your final bill is: ${bill}.\")"
   ]
  },
  {
   "cell_type": "markdown",
   "metadata": {},
   "source": [
    "# Love calculators\n",
    "Instructions\n",
    "💪 This is a difficult challenge! 💪\n",
    "You are going to write a program that tests the compatibility between two people. To work out the love score between two people: Take both people's names and check for the number of times the letters in the word TRUE occurs. Then check for the number of times the letters in the word LOVE occurs. Then combine these numbers to make a 2 digit number.\n",
    "\n",
    "For Love Scores less than 10 or greater than 90, the message should be: \"Your score is *x*, you go together like coke and mentos.\"\n",
    "\n",
    "For Love Scores between 40 and 50, the message should be: \"Your score is *y*, you are alright together.\"\n",
    "\n",
    "Otherwise, the message will just be their score. e.g.: \"Your score is *z*.\"\n",
    "\n",
    "e.g.\n",
    "name1 = \"Angela Yu\"\n",
    "name2 = \"Jack Bauer\"\n",
    "T occurs 0 times, R occurs 1 time, U occurs 2 times, E occurs 2 times\n",
    "\n",
    "Total = 5\n",
    "\n",
    "L occurs 1 time, O occurs 0 times, V occurs 0 times, E occurs 2 times\n",
    "\n",
    "Total = 3\n",
    "\n",
    "Love Score = 53\n",
    "\n",
    "Print: \"Your score is 53.\"\n",
    "\n",
    "These functions will help you:\n",
    "\n",
    "lower() count()\n",
    "\n",
    "Example Input 1\n",
    "Kanye West\n",
    "Kim Kardashian\n",
    "Example Output 1\n",
    "The Love Calculator is calculating your score...\n",
    "Your score is 42, you are alright together.\n",
    "\n",
    "Example Input 2\n",
    "Brad Pitt\n",
    "Jennifer Aniston\n",
    "Example Output 2\n",
    "The Love Calculator is calculating your score...\n",
    "Your score is 73.\n",
    "Hint\n",
    "You can check your values against mine using this table:\n",
    "\n",
    "Name 1\tName 2\tScore\n",
    "Brad Pitt\tJennifer Aniston\t73\n",
    "Prince William\tKate Middleton\t67\n",
    "Ashton Kutcher\tMila Kunis\t63\n",
    "Angela Yu\tJack Bauer\t53\n",
    "David Beckham\tVictoria Beckham\t45\n",
    "Mario\tPrincess Peach\t43\n",
    "Kanye West\tKim Kardashian\t42"
   ]
  },
  {
   "cell_type": "code",
   "execution_count": 8,
   "metadata": {},
   "outputs": [
    {
     "name": "stdout",
     "output_type": "stream",
     "text": [
      "The Love Calculator is calculating your score...\n",
      "Your score is 31.\n"
     ]
    }
   ],
   "source": [
    "print(\"The Love Calculator is calculating your score...\")\n",
    "name1 = input() # What is your name?\n",
    "name2 = input() # What is their name?\n",
    "\n",
    "name1 = name1.lower()\n",
    "name2 = name2.lower()\n",
    "\n",
    "combined = name1 + name2\n",
    "\n",
    "c1 = 0\n",
    "c2 = 0\n",
    "for i in combined:\n",
    "  if i == 't' or i == 'r' or i == 'u' or i == 'e':\n",
    "    c1 += 1\n",
    "  if i == 'l' or i == 'o' or i == 'v' or i == 'e':\n",
    "    c2 += 1\n",
    "\n",
    "score = c1*10 + c2\n",
    "\n",
    "if score < 10 or score > 90:\n",
    "  print(f\"Your score is {score}, you go together like coke and mentos.\")\n",
    "elif score > 40 and score < 50:\n",
    "  print(f\"Your score is {score}, you are alright together.\")\n",
    "else:\n",
    "  print(f\"Your score is {score}.\")"
   ]
  },
  {
   "cell_type": "markdown",
   "metadata": {},
   "source": [
    "# Treasure Island"
   ]
  },
  {
   "cell_type": "code",
   "execution_count": 9,
   "metadata": {},
   "outputs": [
    {
     "name": "stdout",
     "output_type": "stream",
     "text": [
      "Welcome to the Treasure Island!\n",
      "Your mission is to find the treasure\n",
      "Congratulations you moved a step ahead.\n",
      "You found the treasure.\n"
     ]
    }
   ],
   "source": [
    "print(\"Welcome to the Treasure Island!\")\n",
    "print(\"Your mission is to find the treasure\")\n",
    "\n",
    "if(input(\"Please choose left or right. Select L/R\") == \"R\"):\n",
    "  print(\"You fell in a hole. Game over\")\n",
    "else:\n",
    "  print(\"Congratulations you moved a step ahead.\")\n",
    "  if(input(\"Please choose swim/wait. Select S/W\") == \"S\"):\n",
    "    print(\"You were eaten by a trout. Game over\")\n",
    "  else:\n",
    "    print(\"You found the treasure.\")\n"
   ]
  },
  {
   "cell_type": "markdown",
   "metadata": {},
   "source": [
    "End of day 3.\n",
    "Date - 29th Feb 2024"
   ]
  },
  {
   "cell_type": "markdown",
   "metadata": {},
   "source": []
  }
 ],
 "metadata": {
  "kernelspec": {
   "display_name": "Python 3",
   "language": "python",
   "name": "python3"
  },
  "language_info": {
   "codemirror_mode": {
    "name": "ipython",
    "version": 3
   },
   "file_extension": ".py",
   "mimetype": "text/x-python",
   "name": "python",
   "nbconvert_exporter": "python",
   "pygments_lexer": "ipython3",
   "version": "3.12.2"
  }
 },
 "nbformat": 4,
 "nbformat_minor": 2
}
