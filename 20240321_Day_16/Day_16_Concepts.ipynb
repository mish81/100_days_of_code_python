{
 "cells": [
  {
   "cell_type": "markdown",
   "metadata": {},
   "source": [
    "# Object Oriented Programming"
   ]
  },
  {
   "cell_type": "markdown",
   "metadata": {},
   "source": [
    "Procedural Programming - Programming type where the code keeps jumping from one step to another based on requirements"
   ]
  },
  {
   "cell_type": "markdown",
   "metadata": {},
   "source": [
    "Object Oriented Programming - Object-oriented programming (OOP) is a programming paradigm that revolves around the concept of \"objects\", which can contain data in the form of attributes or properties, and code in the form of methods or procedures. These objects can interact with one another, exchanging data and invoking behaviors to accomplish tasks."
   ]
  },
  {
   "cell_type": "markdown",
   "metadata": {},
   "source": []
  }
 ],
 "metadata": {
  "language_info": {
   "name": "python"
  }
 },
 "nbformat": 4,
 "nbformat_minor": 2
}
