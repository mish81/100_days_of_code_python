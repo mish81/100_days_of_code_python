{
 "cells": [
  {
   "cell_type": "markdown",
   "metadata": {},
   "source": [
    "# Higher Lower Game"
   ]
  },
  {
   "cell_type": "markdown",
   "metadata": {},
   "source": [
    "Based on data from Input_Data file, design a game to compare the number of Instagram followers for any 2 randomly generated celebrities."
   ]
  },
  {
   "cell_type": "code",
   "execution_count": 14,
   "metadata": {},
   "outputs": [],
   "source": [
    "import Logos\n",
    "import Input_Data\n",
    "import random"
   ]
  },
  {
   "cell_type": "code",
   "execution_count": 22,
   "metadata": {},
   "outputs": [
    {
     "name": "stdout",
     "output_type": "stream",
     "text": [
      "\n",
      "    __  ___       __             \n",
      "   / / / (_)___ _/ /_  ___  _____\n",
      "  / /_/ / / __ `/ __ \\/ _ \\/ ___/\n",
      " / __  / / /_/ / / / /  __/ /    \n",
      "/_/ ///_/\\__, /_/ /_/\\___/_/     \n",
      "   / /  /____/_      _____  _____\n",
      "  / /   / __ \\ | /| / / _ \\/ ___/\n",
      " / /___/ /_/ / |/ |/ /  __/ /    \n",
      "/_____/\\____/|__/|__/\\___/_/     \n",
      "\n",
      "Compare A: Justin Timberlake, a Musician and actor, from United States\n",
      "\n",
      " _    __    \n",
      "| |  / /____\n",
      "| | / / ___/\n",
      "| |/ (__  ) \n",
      "|___/____(_)\n",
      "\n",
      "Against B: Gigi Hadid, a Model, from United States\n",
      "You're right! Current Score: 1\n",
      "\n",
      "    __  ___       __             \n",
      "   / / / (_)___ _/ /_  ___  _____\n",
      "  / /_/ / / __ `/ __ \\/ _ \\/ ___/\n",
      " / __  / / /_/ / / / /  __/ /    \n",
      "/_/ ///_/\\__, /_/ /_/\\___/_/     \n",
      "   / /  /____/_      _____  _____\n",
      "  / /   / __ \\ | /| / / _ \\/ ___/\n",
      " / /___/ /_/ / |/ |/ /  __/ /    \n",
      "/_____/\\____/|__/|__/\\___/_/     \n",
      "\n",
      "Compare A: Justin Bieber, a Musician, from Canada\n",
      "\n",
      " _    __    \n",
      "| |  / /____\n",
      "| | / / ___/\n",
      "| |/ (__  ) \n",
      "|___/____(_)\n",
      "\n",
      "Against B: National Geographic, a Magazine, from United States\n",
      "Sorry, that's wrong. Final Score: 1\n"
     ]
    }
   ],
   "source": [
    "# Counter for calculating score. (Resets after each game)\n",
    "score = 0\n",
    "\n",
    "# Reset flag\n",
    "reset = 0\n",
    "\n",
    "while reset == 0:\n",
    "    first = random.choice(data)\n",
    "    second = random.choice(data)\n",
    "\n",
    "    # Logic to ensure that the first and second choices are not the same\n",
    "    while first['name'] == second['name']:\n",
    "        second = random.choice(data)\n",
    "\n",
    "    # Logo and Data imported from py files\n",
    "    print(logo)\n",
    "    print(f\"Compare A: {first['name']}, a {first['description']}, from {first['country']}\")\n",
    "    print(vs)\n",
    "    print(f\"Against B: {second['name']}, a {second['description']}, from {second['country']}\")\n",
    "\n",
    "    # Logic to get right answer based on follower counts\n",
    "    if first['follower_count'] >= second['follower_count']:\n",
    "        right_answer = 'A'\n",
    "    else:\n",
    "        right_answer = 'B'\n",
    "\n",
    "    # Getting user guess\n",
    "    user_guess = input(\"Who has more followers? Type 'A' or 'B' :\")\n",
    "\n",
    "    # Printing results\n",
    "    if user_guess == right_answer:\n",
    "        score += 1\n",
    "        print(f\"You're right! Current Score: {score}\")\n",
    "    else:\n",
    "        print(f\"Sorry, that's wrong. Final Score: {score}\")\n",
    "        reset = 1"
   ]
  },
  {
   "cell_type": "code",
   "execution_count": null,
   "metadata": {},
   "outputs": [],
   "source": []
  }
 ],
 "metadata": {
  "kernelspec": {
   "display_name": "Python 3",
   "language": "python",
   "name": "python3"
  },
  "language_info": {
   "codemirror_mode": {
    "name": "ipython",
    "version": 3
   },
   "file_extension": ".py",
   "mimetype": "text/x-python",
   "name": "python",
   "nbconvert_exporter": "python",
   "pygments_lexer": "ipython3",
   "version": "3.12.2"
  }
 },
 "nbformat": 4,
 "nbformat_minor": 2
}
